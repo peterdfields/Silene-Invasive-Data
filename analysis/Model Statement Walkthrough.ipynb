{
 "cells": [
  {
   "cell_type": "markdown",
   "id": "ac2685c8-f8ee-40ba-b8c8-caf4822c784f",
   "metadata": {},
   "source": [
    "## Notes on Dexter's SAS model statements"
   ]
  },
  {
   "cell_type": "markdown",
   "id": "af698ed2-de13-4fa3-80a7-54f475c08266",
   "metadata": {},
   "source": [
    "### First a few data notes:\n",
    "\n",
    "### At this point it is a little tricky to follow what Dexter has done, that we have also done, or, do not want to do.\n",
    "\n",
    "### First, Dexter omitted three populations, RWI, CDR and VES for various reasons, but I repaired all these except VES, which is a population where I still need to trace down the X/Y coords. Still, I have not deleted the VES plants.\n",
    "\n",
    "### Second, Dexter and I made much the same decisions about missing values and obvious corrections to the data.\n",
    "\n",
    "### Third, for size related traits, Dexter divided the sums across censuses (e.g. number of leaves) by the longevity of the plant. This gives a sort of average phenotype for an average census, but it strikes me that all those traits are now correlated wtih longevity in some way and therefore each other. So let's not do that.\n",
    "\n",
    "### Finally, Dexter used PCA on neutral markers and environmental variables, then used ANOVA to get the residuals of the traits. He then analyzed were the residuals from this ANOVA for continent effects etc., thus trying to remove effects the environment, gender, neutral markers etc. I have some issues with this because some of the differences between continents for example may be environmental and we would be removing effects on phenotype that we would like to study. Anyway, here is the flow of all that."
   ]
  },
  {
   "cell_type": "markdown",
   "id": "0e0d6283-a068-4efe-86f1-7e84c4fdb642",
   "metadata": {},
   "source": [
    "### Note below that we had previously run a PCA on the AFLP data. The variables to be used later are the first two PCAs of the genetic data"
   ]
  },
  {
   "cell_type": "code",
   "execution_count": null,
   "id": "083b43c2-3999-4266-b3e8-0fc5eb4f74a7",
   "metadata": {},
   "outputs": [],
   "source": [
    "#/*      Import the AFLP data set         */\n",
    "#DATA LAT_PCO; DEL=BYTE(09);\n",
    "#INFILE 'C:\\Documents and Settings\\drt_lab\\My Documents\\My SAS Files\\9.1\\common_garden\\Common Gardens 2009\\LAT_PCO_020709.txt' DELIMITER=DEL;\n",
    "#INPUT REGION $ POP $ LAT LONG IND $ GENPC1 GENPC2 PCO3 PCO4 PCO5 PCO6;\n",
    "#DROP REGION LAT LONG IND PCO3 PCO4 PCO5 PCO6;\n",
    "#RUN;"
   ]
  },
  {
   "cell_type": "markdown",
   "id": "32143f2a-3827-495f-a451-9c56826679bb",
   "metadata": {},
   "source": [
    "### Next, we did a PCA on the following environmental variables ..."
   ]
  },
  {
   "cell_type": "code",
   "execution_count": null,
   "id": "1a0499af-84ad-4fe4-8652-08ce8bfed8bd",
   "metadata": {},
   "outputs": [],
   "source": [
    "#*        Input the environmental data        */\n",
    "#DATA ENV_LAT; DEL=BYTE(09);\n",
    "#INFILE 'C:\\Documents and Settings\\drt_lab\\My Documents\\My SAS Files\\9.1\\common_garden\\Common Gardens 2009\\LAT_GIS_DATA.TXT' DELIMITER=DEL;\n",
    "#INPUT POP $ LAT LONG AVGANNTMP AVGTEMPCLDQTR AVGANNPCP PCPDRYMNTH PCPSEASON PCPWRMQTR TMPSEASON MAXTMPWRMMNTH MINTMPCLDMNTH;\n",
    "#RUN;\n",
    "#/*** -Environmental Acronyms described-\n",
    "#AVGANNTMP=average annual temp\n",
    "#AVGTEMPCLDQTR=average temperature in coldest quarter\n",
    "#AVGANNPCP=average annual percipitation\n",
    "#PCPDRYMNTH=average percipitation in driest month\n",
    "#PCPSEASON=percipitation seasonality (CV)\n",
    "#PCPWRMQTR=average percipitation in warmest quarter;\n",
    "#TMPSEASON=temperature seasonality (SD across months ◊ 100)\n",
    "#MAXTMPWRMMNTH=maximum temperature in warmest month;\n",
    "#MINTMPCLDMNTH=minimum temperature in coldest month      ***/"
   ]
  },
  {
   "cell_type": "markdown",
   "id": "7d07d174-877a-4d0c-9b94-2de0f5023db2",
   "metadata": {},
   "source": [
    "### Here is the model statement for the PCA ... if we want to do something like this, I can use my scripts"
   ]
  },
  {
   "cell_type": "code",
   "execution_count": null,
   "id": "194610cd-db8d-46ba-8937-f9a7ec5fb2d7",
   "metadata": {},
   "outputs": [],
   "source": [
    "#/*** The following code creates orthogonal principal componenets of the environmental data, of which only the first two PCs will be retained ***/\n",
    "#DM 'CLEAR LOG';\n",
    "#PROC PRINCOMP DATA=ENV_LAT NOPRINT OUT=ENVPCA PREFIX=ENV_PC;    \n",
    "#VAR AVGANNTMP AVGANNPCP PCPDRYMNTH PCPSEASON PCPWRMQTR TMPSEASON MAXTMPWRMMNTH MINTMPCLDMNTH;\n",
    "#RUN; /*  creates multiple principal components of the 8 environmental variables, ortogonal data set named ENVPCA  */\n",
    "\n",
    "#DATA ENVIRONMENT;  /*  Data step retains only the first two PCs of environmental data. Abbreviated data set renamed ENVIRONMENT */\n",
    "#SET ENVPCA;\n",
    "#KEEP POP LAT LONG ENV_PC1 ENV_PC2;  RUN;"
   ]
  },
  {
   "cell_type": "markdown",
   "id": "aa6ef552-71ce-4830-abb5-e870386d3849",
   "metadata": {},
   "source": [
    "### The resulting data have the phenotypic variables, the class variables, lats and longs, the first two PCs describing the environment, and the first two PCs describing the nuclear genetic markers."
   ]
  },
  {
   "cell_type": "markdown",
   "id": "70c3d511-8a9d-4f9f-a9d7-285d21b8554a",
   "metadata": {},
   "source": [
    "### The phenotypic variables were log transformed, x=log(x+1)"
   ]
  },
  {
   "cell_type": "markdown",
   "id": "f1b65b4e-d9f4-487e-9c70-440f5e4e064b",
   "metadata": {},
   "source": [
    "### Next, a mixed model ANOVA was run on each trait, generating residuals for the actual analysis. "
   ]
  },
  {
   "cell_type": "code",
   "execution_count": null,
   "id": "101982ab-f86f-4192-8631-76374bedee67",
   "metadata": {},
   "outputs": [],
   "source": [
    "#/* TRAIT 1, STEM LEAVES*/  /*DM 'CLEAR OUTPUT';*/\n",
    "#PROC MIXED DATA=ALLMERGED COVTEST; TITLE 'Stem leaves-weighted by lifespan-LN+1'; WHERE sumALIVE>0; \n",
    "#CLASS SEX;\n",
    "#MODEL sumSTEM_LVs=SEX LAT LONG ENV_PC1 ENV_PC2/OUTP=TEMPRESID1 RESIDUAL; RUN;\n",
    "#DATA TRAIT1; SET TEMPRESID1; KEEP POP ORIGIN DEST SITE TRT PLOT PLANTID SEX rsumSTEM_LVs; rsumSTEM_LVs=RESID; RUN;\n",
    "#PROC SORT; BY PLANTID; RUN;"
   ]
  },
  {
   "cell_type": "markdown",
   "id": "fe1611f1-8d6b-4494-aeec-0aba0b2df97e",
   "metadata": {},
   "source": [
    "### The model statement:\n",
    "### MODEL sumSTEM_LVs=SEX LAT LONG ENV_PC1 ENV_PC2/OUTP=TEMPRESID1\n",
    "### means that the variable TEMPRESID1 is the residual of stem leaves, with the effect of Sex, lat, long, ENVPc1 and ENVPC2 removed. I do not see the genetic PCs in this model statement.\n",
    "### This basic structure was used for 10 variables, and the resulting merged data had the class variables and the 10 variables which were actually the residuals from above."
   ]
  },
  {
   "cell_type": "markdown",
   "id": "4fc81496-0dbf-4a28-a26a-7529b85f8413",
   "metadata": {},
   "source": [
    "### ____________________________________________\n",
    "### Yet another round of PCAs were done, this time on the variables themselves.\n",
    "### FOUR different PCAs were done on a priori defined traits, size related traits, defense related traits, life-history related traits, and all traits. Note that these PCAs were done on the residuals from above, and the ANOVAs of interest were done on the first two PCAs."
   ]
  },
  {
   "cell_type": "code",
   "execution_count": null,
   "id": "2519418a-4541-49af-9b30-87bd41bf4ffb",
   "metadata": {},
   "outputs": [],
   "source": [
    "# PCA for size related traits\n",
    "\n",
    "#/* The following PROC PRINCOMPs produce principal components of the various traits */\n",
    "#DM 'CLEAR LOG'; DM 'CLEAR OUTPUT'; /*Principal Components on Size Traits*/\n",
    "#PROC PRINCOMP DATA=MERGEDRESIDS  OUT=PCSIZE PREFIX=PCSIZE_  ;\n",
    "#TITLE 'PC for Size traits: Stem lvs, Basal lvs, Bolt no, Bolt ht';\n",
    "#VAR rsumSTEM_LVs rsumBASAL_LVs rsumNUM_BOLTS rsumBOLT_HT;\n",
    "#RUN;"
   ]
  },
  {
   "cell_type": "code",
   "execution_count": null,
   "id": "e7668ab9-f30a-44c4-a1b0-ee640be9351b",
   "metadata": {},
   "outputs": [],
   "source": [
    "# PCA for defense related traits\n",
    "\n",
    "#DM 'CLEAR LOG'; DM 'CLEAR OUTPUT'; /*Principal Components on Defense Traits*/\n",
    "#PROC PRINCOMP DATA=MERGEDRESIDS  OUT=PCDEF  PREFIX=PCDEF_ ;\n",
    "#TITLE 'PC for Defense traits: Leaf herbivory, Gen enemy load, Spec enemy load';\n",
    "#VAR rsumLH rsumGEN_ENMY rsumSPEC_ENMY;\n",
    "#RUN;"
   ]
  },
  {
   "cell_type": "code",
   "execution_count": null,
   "id": "b65e19d2-15fc-4fd4-a6f6-11aa886e4eba",
   "metadata": {},
   "outputs": [],
   "source": [
    "# PCA for life-history traits\n",
    "\n",
    "#DM 'CLEAR LOG'; DM 'CLEAR OUTPUT'; /*Principal Components on Life History Traits*/\n",
    "#PROC PRINCOMP DATA=MERGEDRESIDS  OUT=PCLIFE PREFIX=PCLIFE_ ;\n",
    "#TITLE 'PC for Life History traits: Longevity, Time to Reproduction';\n",
    "#VAR rLifespn1 rDelyRep1;\n",
    "#RUN;"
   ]
  },
  {
   "cell_type": "code",
   "execution_count": null,
   "id": "552ac65a-3d18-497f-bc0d-d0f7b2678fab",
   "metadata": {},
   "outputs": [],
   "source": [
    "# PCA for all traits\n",
    "\n",
    "#/*Principal Components on ALL (Size, Def, Life H) Traits\n",
    "#DM 'CLEAR LOG'; DM 'CLEAR OUTPUT'; \n",
    "#PROC PRINCOMP DATA=MERGEDRESIDS  OUT=PCALL PREFIX=PCALL_ ;\n",
    "#TITLE 'All: Stem & Basal lvs, Bolt no & ht; LH, genENMY, specENMY; Longevity, Time to Reproduction'; \n",
    "#VAR rsumSTEM_LVs rsumBASAL_LVs rsumNUM_BOLTS rsumBOLT_HT rsumLH rsumGEN_ENMY rsumSPEC_ENMY rsumALIVE rsumREPROD_SPD rTOTFLR; RUN;"
   ]
  },
  {
   "cell_type": "markdown",
   "id": "41cc8f59-6690-4dc2-ac8b-ae591b74d8bb",
   "metadata": {},
   "source": [
    "### So in the end, we log-transformed the variables, calculated the residuals of some nuisance variables including their genders and estimates of their abiotic environment, then took the PCs of those residuals and analyzed them. It makes me tired just thinking about it and I think we should start with the basics ..."
   ]
  },
  {
   "cell_type": "markdown",
   "id": "870fb6e0-d8c1-47b4-894e-288e0487af2a",
   "metadata": {},
   "source": [
    "### Below is an ANOVA involving an analysis of one of these PCAS."
   ]
  },
  {
   "cell_type": "code",
   "execution_count": 4,
   "id": "1e34b26a-4749-4ff8-9c75-3719f7e71e0c",
   "metadata": {},
   "outputs": [],
   "source": [
    "#/*** The following PROC MIXEDs analyze the -SIZE- Principal Components ***/\n",
    "#PROC SORT DATA=PCSIZE; BY ORIGIN DEST TRT POP SITE PLOT; RUN;\n",
    "#DM 'CLEAR OUTPUT'; DM 'CLEAR LOG';\n",
    "#PROC MIXED DATA=PCSIZE COVTEST;\n",
    "#TITLE1 'PC SIZE 1'; TITLE2 'Plants with longevity=0 excluded (transplant shock)'; WHERE POP^=\"CDR\";\n",
    "#CLASS Origin Dest Trt Pop Site Plot;\n",
    "#MODEL PCSIZE_1=Origin Dest Trt Origin*Dest Origin*Trt Dest*Trt Origin*Dest*Trt;\n",
    "#RANDOM Pop(Origin) Site(Dest) Plot(Site) Trt*Plot;\n",
    "#LSMEANS Origin; LSMEANS Dest; LSMEANS Trt; LSMEANS Origin*Dest; LSMEANS Origin*Trt; LSMEANS Dest*Trt; LSMEANS Origin*Dest*Trt; RUN; QUIT;"
   ]
  },
  {
   "cell_type": "markdown",
   "id": "6634c30d-e27e-4025-9bbf-70f9e9a4c007",
   "metadata": {},
   "source": [
    "### The CLASS variables are, in our language cont_orig, cont_dest, treatment, pop, site, and plot. The random effects are pop(origin) [pop nested within origin], site(dest) [site nested within destination], Plot(site) [plot nested within site] and treatment*plot [i.e. all combinations of treatments and plots comprise a random effect]"
   ]
  },
  {
   "cell_type": "markdown",
   "id": "3c658af5-35b1-4c8e-a061-66ccfceea11b",
   "metadata": {},
   "source": [
    "### MODEL PCSIZE_1=Origin Dest Trt OriginxDest OriginxTrt DestxTrt OriginxDestxTrt;\n",
    "### Notice how the model includes all the CLASS variables and none of the RANDOM variables.\n",
    "### Our model would have to include SEX as a CLASS variable unless we do the residuals thing. But the thing kind of explodes. Does this mean our model statement is Y = origin destination treatmentment sex (all_two way_interactions) (all_three_ways) and (the one four way interaction)?\n",
    "### It would help for us to figure out which ANOVA effects we are actually interested in ....\n"
   ]
  },
  {
   "cell_type": "code",
   "execution_count": null,
   "id": "d61592f3-c7f9-48a9-a174-32b20f579825",
   "metadata": {},
   "outputs": [],
   "source": []
  }
 ],
 "metadata": {
  "kernelspec": {
   "display_name": "Python 3 (ipykernel)",
   "language": "python",
   "name": "python3"
  },
  "language_info": {
   "codemirror_mode": {
    "name": "ipython",
    "version": 3
   },
   "file_extension": ".py",
   "mimetype": "text/x-python",
   "name": "python",
   "nbconvert_exporter": "python",
   "pygments_lexer": "ipython3",
   "version": "3.7.7"
  }
 },
 "nbformat": 4,
 "nbformat_minor": 5
}
