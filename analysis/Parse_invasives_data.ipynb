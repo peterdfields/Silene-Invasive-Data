{
 "cells": [
  {
   "cell_type": "markdown",
   "id": "58350db2",
   "metadata": {},
   "source": [
    "# Workthrough of the Parse_invasives_data.py script by Doug Taylor"
   ]
  },
  {
   "cell_type": "code",
   "execution_count": 1,
   "id": "e493bff8",
   "metadata": {},
   "outputs": [
    {
     "name": "stdout",
     "output_type": "stream",
     "text": [
      "This generates a python dataframe and .CSV file for the Common Garden data... \n",
      "\n"
     ]
    },
    {
     "ename": "FileNotFoundError",
     "evalue": "[Errno 2] No such file or directory: '2021 Common Garden Data Working Copy.csv'",
     "output_type": "error",
     "traceback": [
      "\u001b[0;31m---------------------------------------------------------------------------\u001b[0m",
      "\u001b[0;31mFileNotFoundError\u001b[0m                         Traceback (most recent call last)",
      "\u001b[0;32m/var/folders/ry/f3rzn6ms4ls2k03rmf61z7fr0000gv/T/ipykernel_79017/1849080536.py\u001b[0m in \u001b[0;36m<module>\u001b[0;34m\u001b[0m\n\u001b[1;32m      7\u001b[0m \u001b[0mprint\u001b[0m\u001b[0;34m(\u001b[0m\u001b[0;34m\"This generates a python dataframe and .CSV file for the Common Garden data...\"\u001b[0m\u001b[0;34m,\u001b[0m \u001b[0;34m\"\\n\"\u001b[0m\u001b[0;34m)\u001b[0m\u001b[0;34m\u001b[0m\u001b[0;34m\u001b[0m\u001b[0m\n\u001b[1;32m      8\u001b[0m \u001b[0;34m\u001b[0m\u001b[0m\n\u001b[0;32m----> 9\u001b[0;31m \u001b[0minv_data\u001b[0m \u001b[0;34m=\u001b[0m \u001b[0mpd\u001b[0m\u001b[0;34m.\u001b[0m\u001b[0mread_csv\u001b[0m\u001b[0;34m(\u001b[0m\u001b[0;34mr'2021 Common Garden Data Working Copy.csv'\u001b[0m\u001b[0;34m,\u001b[0m \u001b[0mheader\u001b[0m\u001b[0;34m=\u001b[0m\u001b[0;36m0\u001b[0m\u001b[0;34m)\u001b[0m\u001b[0;34m\u001b[0m\u001b[0;34m\u001b[0m\u001b[0m\n\u001b[0m\u001b[1;32m     10\u001b[0m \u001b[0mprint\u001b[0m\u001b[0;34m(\u001b[0m\u001b[0minv_data\u001b[0m\u001b[0;34m)\u001b[0m\u001b[0;34m\u001b[0m\u001b[0;34m\u001b[0m\u001b[0m\n",
      "\u001b[0;32m/usr/local/lib/python3.7/site-packages/pandas/util/_decorators.py\u001b[0m in \u001b[0;36mwrapper\u001b[0;34m(*args, **kwargs)\u001b[0m\n\u001b[1;32m    309\u001b[0m                     \u001b[0mstacklevel\u001b[0m\u001b[0;34m=\u001b[0m\u001b[0mstacklevel\u001b[0m\u001b[0;34m,\u001b[0m\u001b[0;34m\u001b[0m\u001b[0;34m\u001b[0m\u001b[0m\n\u001b[1;32m    310\u001b[0m                 )\n\u001b[0;32m--> 311\u001b[0;31m             \u001b[0;32mreturn\u001b[0m \u001b[0mfunc\u001b[0m\u001b[0;34m(\u001b[0m\u001b[0;34m*\u001b[0m\u001b[0margs\u001b[0m\u001b[0;34m,\u001b[0m \u001b[0;34m**\u001b[0m\u001b[0mkwargs\u001b[0m\u001b[0;34m)\u001b[0m\u001b[0;34m\u001b[0m\u001b[0;34m\u001b[0m\u001b[0m\n\u001b[0m\u001b[1;32m    312\u001b[0m \u001b[0;34m\u001b[0m\u001b[0m\n\u001b[1;32m    313\u001b[0m         \u001b[0;32mreturn\u001b[0m \u001b[0mwrapper\u001b[0m\u001b[0;34m\u001b[0m\u001b[0;34m\u001b[0m\u001b[0m\n",
      "\u001b[0;32m/usr/local/lib/python3.7/site-packages/pandas/io/parsers/readers.py\u001b[0m in \u001b[0;36mread_csv\u001b[0;34m(filepath_or_buffer, sep, delimiter, header, names, index_col, usecols, squeeze, prefix, mangle_dupe_cols, dtype, engine, converters, true_values, false_values, skipinitialspace, skiprows, skipfooter, nrows, na_values, keep_default_na, na_filter, verbose, skip_blank_lines, parse_dates, infer_datetime_format, keep_date_col, date_parser, dayfirst, cache_dates, iterator, chunksize, compression, thousands, decimal, lineterminator, quotechar, quoting, doublequote, escapechar, comment, encoding, encoding_errors, dialect, error_bad_lines, warn_bad_lines, on_bad_lines, delim_whitespace, low_memory, memory_map, float_precision, storage_options)\u001b[0m\n\u001b[1;32m    584\u001b[0m     \u001b[0mkwds\u001b[0m\u001b[0;34m.\u001b[0m\u001b[0mupdate\u001b[0m\u001b[0;34m(\u001b[0m\u001b[0mkwds_defaults\u001b[0m\u001b[0;34m)\u001b[0m\u001b[0;34m\u001b[0m\u001b[0;34m\u001b[0m\u001b[0m\n\u001b[1;32m    585\u001b[0m \u001b[0;34m\u001b[0m\u001b[0m\n\u001b[0;32m--> 586\u001b[0;31m     \u001b[0;32mreturn\u001b[0m \u001b[0m_read\u001b[0m\u001b[0;34m(\u001b[0m\u001b[0mfilepath_or_buffer\u001b[0m\u001b[0;34m,\u001b[0m \u001b[0mkwds\u001b[0m\u001b[0;34m)\u001b[0m\u001b[0;34m\u001b[0m\u001b[0;34m\u001b[0m\u001b[0m\n\u001b[0m\u001b[1;32m    587\u001b[0m \u001b[0;34m\u001b[0m\u001b[0m\n\u001b[1;32m    588\u001b[0m \u001b[0;34m\u001b[0m\u001b[0m\n",
      "\u001b[0;32m/usr/local/lib/python3.7/site-packages/pandas/io/parsers/readers.py\u001b[0m in \u001b[0;36m_read\u001b[0;34m(filepath_or_buffer, kwds)\u001b[0m\n\u001b[1;32m    480\u001b[0m \u001b[0;34m\u001b[0m\u001b[0m\n\u001b[1;32m    481\u001b[0m     \u001b[0;31m# Create the parser.\u001b[0m\u001b[0;34m\u001b[0m\u001b[0;34m\u001b[0m\u001b[0;34m\u001b[0m\u001b[0m\n\u001b[0;32m--> 482\u001b[0;31m     \u001b[0mparser\u001b[0m \u001b[0;34m=\u001b[0m \u001b[0mTextFileReader\u001b[0m\u001b[0;34m(\u001b[0m\u001b[0mfilepath_or_buffer\u001b[0m\u001b[0;34m,\u001b[0m \u001b[0;34m**\u001b[0m\u001b[0mkwds\u001b[0m\u001b[0;34m)\u001b[0m\u001b[0;34m\u001b[0m\u001b[0;34m\u001b[0m\u001b[0m\n\u001b[0m\u001b[1;32m    483\u001b[0m \u001b[0;34m\u001b[0m\u001b[0m\n\u001b[1;32m    484\u001b[0m     \u001b[0;32mif\u001b[0m \u001b[0mchunksize\u001b[0m \u001b[0;32mor\u001b[0m \u001b[0miterator\u001b[0m\u001b[0;34m:\u001b[0m\u001b[0;34m\u001b[0m\u001b[0;34m\u001b[0m\u001b[0m\n",
      "\u001b[0;32m/usr/local/lib/python3.7/site-packages/pandas/io/parsers/readers.py\u001b[0m in \u001b[0;36m__init__\u001b[0;34m(self, f, engine, **kwds)\u001b[0m\n\u001b[1;32m    809\u001b[0m             \u001b[0mself\u001b[0m\u001b[0;34m.\u001b[0m\u001b[0moptions\u001b[0m\u001b[0;34m[\u001b[0m\u001b[0;34m\"has_index_names\"\u001b[0m\u001b[0;34m]\u001b[0m \u001b[0;34m=\u001b[0m \u001b[0mkwds\u001b[0m\u001b[0;34m[\u001b[0m\u001b[0;34m\"has_index_names\"\u001b[0m\u001b[0;34m]\u001b[0m\u001b[0;34m\u001b[0m\u001b[0;34m\u001b[0m\u001b[0m\n\u001b[1;32m    810\u001b[0m \u001b[0;34m\u001b[0m\u001b[0m\n\u001b[0;32m--> 811\u001b[0;31m         \u001b[0mself\u001b[0m\u001b[0;34m.\u001b[0m\u001b[0m_engine\u001b[0m \u001b[0;34m=\u001b[0m \u001b[0mself\u001b[0m\u001b[0;34m.\u001b[0m\u001b[0m_make_engine\u001b[0m\u001b[0;34m(\u001b[0m\u001b[0mself\u001b[0m\u001b[0;34m.\u001b[0m\u001b[0mengine\u001b[0m\u001b[0;34m)\u001b[0m\u001b[0;34m\u001b[0m\u001b[0;34m\u001b[0m\u001b[0m\n\u001b[0m\u001b[1;32m    812\u001b[0m \u001b[0;34m\u001b[0m\u001b[0m\n\u001b[1;32m    813\u001b[0m     \u001b[0;32mdef\u001b[0m \u001b[0mclose\u001b[0m\u001b[0;34m(\u001b[0m\u001b[0mself\u001b[0m\u001b[0;34m)\u001b[0m\u001b[0;34m:\u001b[0m\u001b[0;34m\u001b[0m\u001b[0;34m\u001b[0m\u001b[0m\n",
      "\u001b[0;32m/usr/local/lib/python3.7/site-packages/pandas/io/parsers/readers.py\u001b[0m in \u001b[0;36m_make_engine\u001b[0;34m(self, engine)\u001b[0m\n\u001b[1;32m   1038\u001b[0m             )\n\u001b[1;32m   1039\u001b[0m         \u001b[0;31m# error: Too many arguments for \"ParserBase\"\u001b[0m\u001b[0;34m\u001b[0m\u001b[0;34m\u001b[0m\u001b[0;34m\u001b[0m\u001b[0m\n\u001b[0;32m-> 1040\u001b[0;31m         \u001b[0;32mreturn\u001b[0m \u001b[0mmapping\u001b[0m\u001b[0;34m[\u001b[0m\u001b[0mengine\u001b[0m\u001b[0;34m]\u001b[0m\u001b[0;34m(\u001b[0m\u001b[0mself\u001b[0m\u001b[0;34m.\u001b[0m\u001b[0mf\u001b[0m\u001b[0;34m,\u001b[0m \u001b[0;34m**\u001b[0m\u001b[0mself\u001b[0m\u001b[0;34m.\u001b[0m\u001b[0moptions\u001b[0m\u001b[0;34m)\u001b[0m  \u001b[0;31m# type: ignore[call-arg]\u001b[0m\u001b[0;34m\u001b[0m\u001b[0;34m\u001b[0m\u001b[0m\n\u001b[0m\u001b[1;32m   1041\u001b[0m \u001b[0;34m\u001b[0m\u001b[0m\n\u001b[1;32m   1042\u001b[0m     \u001b[0;32mdef\u001b[0m \u001b[0m_failover_to_python\u001b[0m\u001b[0;34m(\u001b[0m\u001b[0mself\u001b[0m\u001b[0;34m)\u001b[0m\u001b[0;34m:\u001b[0m\u001b[0;34m\u001b[0m\u001b[0;34m\u001b[0m\u001b[0m\n",
      "\u001b[0;32m/usr/local/lib/python3.7/site-packages/pandas/io/parsers/c_parser_wrapper.py\u001b[0m in \u001b[0;36m__init__\u001b[0;34m(self, src, **kwds)\u001b[0m\n\u001b[1;32m     49\u001b[0m \u001b[0;34m\u001b[0m\u001b[0m\n\u001b[1;32m     50\u001b[0m         \u001b[0;31m# open handles\u001b[0m\u001b[0;34m\u001b[0m\u001b[0;34m\u001b[0m\u001b[0;34m\u001b[0m\u001b[0m\n\u001b[0;32m---> 51\u001b[0;31m         \u001b[0mself\u001b[0m\u001b[0;34m.\u001b[0m\u001b[0m_open_handles\u001b[0m\u001b[0;34m(\u001b[0m\u001b[0msrc\u001b[0m\u001b[0;34m,\u001b[0m \u001b[0mkwds\u001b[0m\u001b[0;34m)\u001b[0m\u001b[0;34m\u001b[0m\u001b[0;34m\u001b[0m\u001b[0m\n\u001b[0m\u001b[1;32m     52\u001b[0m         \u001b[0;32massert\u001b[0m \u001b[0mself\u001b[0m\u001b[0;34m.\u001b[0m\u001b[0mhandles\u001b[0m \u001b[0;32mis\u001b[0m \u001b[0;32mnot\u001b[0m \u001b[0;32mNone\u001b[0m\u001b[0;34m\u001b[0m\u001b[0;34m\u001b[0m\u001b[0m\n\u001b[1;32m     53\u001b[0m \u001b[0;34m\u001b[0m\u001b[0m\n",
      "\u001b[0;32m/usr/local/lib/python3.7/site-packages/pandas/io/parsers/base_parser.py\u001b[0m in \u001b[0;36m_open_handles\u001b[0;34m(self, src, kwds)\u001b[0m\n\u001b[1;32m    227\u001b[0m             \u001b[0mmemory_map\u001b[0m\u001b[0;34m=\u001b[0m\u001b[0mkwds\u001b[0m\u001b[0;34m.\u001b[0m\u001b[0mget\u001b[0m\u001b[0;34m(\u001b[0m\u001b[0;34m\"memory_map\"\u001b[0m\u001b[0;34m,\u001b[0m \u001b[0;32mFalse\u001b[0m\u001b[0;34m)\u001b[0m\u001b[0;34m,\u001b[0m\u001b[0;34m\u001b[0m\u001b[0;34m\u001b[0m\u001b[0m\n\u001b[1;32m    228\u001b[0m             \u001b[0mstorage_options\u001b[0m\u001b[0;34m=\u001b[0m\u001b[0mkwds\u001b[0m\u001b[0;34m.\u001b[0m\u001b[0mget\u001b[0m\u001b[0;34m(\u001b[0m\u001b[0;34m\"storage_options\"\u001b[0m\u001b[0;34m,\u001b[0m \u001b[0;32mNone\u001b[0m\u001b[0;34m)\u001b[0m\u001b[0;34m,\u001b[0m\u001b[0;34m\u001b[0m\u001b[0;34m\u001b[0m\u001b[0m\n\u001b[0;32m--> 229\u001b[0;31m             \u001b[0merrors\u001b[0m\u001b[0;34m=\u001b[0m\u001b[0mkwds\u001b[0m\u001b[0;34m.\u001b[0m\u001b[0mget\u001b[0m\u001b[0;34m(\u001b[0m\u001b[0;34m\"encoding_errors\"\u001b[0m\u001b[0;34m,\u001b[0m \u001b[0;34m\"strict\"\u001b[0m\u001b[0;34m)\u001b[0m\u001b[0;34m,\u001b[0m\u001b[0;34m\u001b[0m\u001b[0;34m\u001b[0m\u001b[0m\n\u001b[0m\u001b[1;32m    230\u001b[0m         )\n\u001b[1;32m    231\u001b[0m \u001b[0;34m\u001b[0m\u001b[0m\n",
      "\u001b[0;32m/usr/local/lib/python3.7/site-packages/pandas/io/common.py\u001b[0m in \u001b[0;36mget_handle\u001b[0;34m(path_or_buf, mode, encoding, compression, memory_map, is_text, errors, storage_options)\u001b[0m\n\u001b[1;32m    704\u001b[0m                 \u001b[0mencoding\u001b[0m\u001b[0;34m=\u001b[0m\u001b[0mioargs\u001b[0m\u001b[0;34m.\u001b[0m\u001b[0mencoding\u001b[0m\u001b[0;34m,\u001b[0m\u001b[0;34m\u001b[0m\u001b[0;34m\u001b[0m\u001b[0m\n\u001b[1;32m    705\u001b[0m                 \u001b[0merrors\u001b[0m\u001b[0;34m=\u001b[0m\u001b[0merrors\u001b[0m\u001b[0;34m,\u001b[0m\u001b[0;34m\u001b[0m\u001b[0;34m\u001b[0m\u001b[0m\n\u001b[0;32m--> 706\u001b[0;31m                 \u001b[0mnewline\u001b[0m\u001b[0;34m=\u001b[0m\u001b[0;34m\"\"\u001b[0m\u001b[0;34m,\u001b[0m\u001b[0;34m\u001b[0m\u001b[0;34m\u001b[0m\u001b[0m\n\u001b[0m\u001b[1;32m    707\u001b[0m             )\n\u001b[1;32m    708\u001b[0m         \u001b[0;32melse\u001b[0m\u001b[0;34m:\u001b[0m\u001b[0;34m\u001b[0m\u001b[0;34m\u001b[0m\u001b[0m\n",
      "\u001b[0;31mFileNotFoundError\u001b[0m: [Errno 2] No such file or directory: '2021 Common Garden Data Working Copy.csv'"
     ]
    }
   ],
   "source": [
    "import sys\n",
    "\n",
    "if sys.version_info[0] >= 3:\n",
    "    unicode = str\n",
    "import pandas as pd\n",
    "\n",
    "print(\"This generates a python dataframe and .CSV file for the Common Garden data...\", \"\\n\")\n",
    "\n",
    "inv_data = pd.read_csv(r'2021 Common Garden Data Working Copy.csv', header=0)\n",
    "print(inv_data)"
   ]
  },
  {
   "cell_type": "code",
   "execution_count": null,
   "id": "e9853570",
   "metadata": {},
   "outputs": [],
   "source": []
  },
  {
   "cell_type": "markdown",
   "id": "49ca6fcb",
   "metadata": {},
   "source": [
    "### This dataframe has the following variables ... not all of which are going to be useful.\n",
    "#### **year** - year the plots were censused\n",
    "#### **census** - year and season the plots were censused, e.g. 2008 summer\n",
    "#### **pop** - population the family originated from (nested within cont_orig).\n",
    "#### **cont_orig**\t- the continent (Europe/NorthAmerica where the population originated\n",
    "#### **cont_dest**\t- the continent the plant was planted in\n",
    "#### **site** - the site (CA, VA, CH, UK) the plants are planted in, nested within continent (nested within cont_dest)\n",
    "#### **treatment**\t- Treated with fungicide or herbicide (FI) versus controls (CN)\n",
    "#### **block**\t- This was a split plot design, so one replicate of each family, treatment etc, was in each block. The design is laid our clearly in Dex's thesis.The abbreviation here is the site [e.g. CH] and the plot within [e.g. CH04]\n",
    "#### **plant_ID** - unique plant identifier\n",
    "#### **sex** - male of female or unknown (missing value)\n",
    "#### **survival** - A or D depending on whether the plant was alive or dead at that census\n",
    "#### **longevity**\t- This is a strange one. It is the number of census periods this plant eventually lived. As a result, it is the same data for all the census perions. There are other versions of the data where longevity is recorded up to that point, rather than overall.\n",
    "#### **basal_lvs** - The number of leaves on the basal rosette of the plant. Plants that are alive have either basal leaves or stem leaves or both. Right now a correction is needed, basal leaves should be a zero rather than a missing value for live plants.\n",
    "#### **stem_lvs**\t- the number of leaves on the stem or bolt. Plants that are alive have either basal leaves or stem leaves or both. Right now a correction is needed, stem leaves should be a zero rather than a missing value for live plants.\n",
    "#### **total_lvs**\t- basal_leaves + stem leaves\n",
    "#### **bolt_ht** - this is the height of all bolts summed. If there are zero bolts, I think it is OK to have this as a missing value.\n",
    "#### **bolt_num** - number of bolts. Plants that are alive should have zero bolts, not missing values.\n",
    "#### **status** - reproductive status, V [vegetative], B [bolting], FL [flowering], FR [fruiting]. Males can't be FR.\n",
    "#### **rep_spd** - Number of censuses until the first reproduction. This variable is like longevity in that it is a cumulative measure reported the same data in each census. For example, at the first census, you can see reproductive speeds of 3,4 or 5. Dead plants can have a non-zero reproductive speed because they may have reproduced then died. Plants that died without reproducing currently have a missing value.\n",
    "#### **flwr_num** - flower number in the current census.\n",
    "#### **frt_num** - fruit number in the current census. Males have mising values for fruit number.\n",
    "#### **frt_hadena** - hadena damaged fruits in the current census. Males have missing values.\n",
    "#### **reproduced** - I have no idea what this variable is.\n",
    "#### **smut** - Healthy (H) or diseased (S). Change these to ones and zeroes?\n",
    "#### **num_smutted_fl** - When diseased, how many flowers displayed disease\n",
    "#### **leaf_herb**\t- an index (0-3) for the severity of leaf herbivory\n",
    "#### **gen_ENMY** - an index (0-3) for the severity of damage by generalist enemies. Rarely a 3.\n",
    "#### **spec_ENMY** - an index (0-3) for the severity of damage by specialist enemies, smut and hadena. Values never exceeded 1."
   ]
  },
  {
   "cell_type": "code",
   "execution_count": 3,
   "id": "150ca1d3",
   "metadata": {},
   "outputs": [
    {
     "name": "stdout",
     "output_type": "stream",
     "text": [
      "      plant_ID    ID  sire  dam  subpop sire.pop dam.pop Structure_region\n",
      "0         2619     1     1    2       1        3       3                3\n",
      "1          579     2     1    2       1        3       3                3\n",
      "2          810     3     1    2       1        3       3                3\n",
      "3         2179     4     1    2       1        3       3                3\n",
      "4          110     5     1    2       1        3       3                3\n",
      "...        ...   ...   ...  ...     ...      ...     ...              ...\n",
      "1454      2515  1455   117  118      59        2       2                2\n",
      "1455       122  1456   117  118      59        2       2                2\n",
      "1456      1376  1457   117  118      59        2       2                2\n",
      "1457      1395  1458   117  118      59        2       2                2\n",
      "1458      1448  1459   117  118      59        2       2                2\n",
      "\n",
      "[1459 rows x 8 columns]\n"
     ]
    }
   ],
   "source": [
    "DNA_data = pd.read_csv(r'Structure_assignments.csv', header=0)\n",
    "print(DNA_data)"
   ]
  },
  {
   "cell_type": "markdown",
   "id": "757e7141",
   "metadata": {},
   "source": [
    "### This dataframe has the following variables ... not all of which are going to be useful.\n",
    "#### **plant_ID** - a unique identifier that corresponds to the plant IDs in the common garden data.\n",
    "#### **ID** - a useless variable that seems to correspond to row number\n",
    "#### **sire** - male parent used to generate F1s, all crosses were within populations\n",
    "#### **dam** - female parent used to generate F1s, all crosses were within populations\n",
    "#### **subpop** - looks like full sibships. These are the ~58 full sib families referred to in the dissertation\n",
    "#### **sire.pop** - population of origin of the sire, somewhere we should be able to connect this to actual names of families and pops.\n",
    "#### **dam.pop** - will always be the same as sire.pop\n",
    "#### **Structure_region** - demes assigned by structure."
   ]
  },
  {
   "cell_type": "markdown",
   "id": "ac7ae3f8",
   "metadata": {},
   "source": [
    "#### Since we generated only one family per pop, the full sib families and pops can be used to identify each other. Therefore, Merge the common garden and molecular results. Use the common garden data to assign pop names in the molecular results. Then go back and assign molecular data to each common garden plant. First, generate a streamlined common garden dataset that simply gives us plant numbers and associated population names, then we can assign population names to the plant numbers in the molecular data. Eventually we can use the pop names to merge the molecular data into the common garden data. I needed to create these tempindex variables because what I did below created variable names that were also in the index. Anyway, I am not good enough at python to figure out the best way to resolve this, so I created these temporary variables in inv_data that I will delete later.With all that, the following takes the pop names from the large dataset and merges them into the DNA data. We retain only the population and plant_ID."
   ]
  },
  {
   "cell_type": "code",
   "execution_count": 4,
   "id": "d9aa4984",
   "metadata": {},
   "outputs": [],
   "source": [
    "inv_data['tempindex1'] = inv_data['pop']\n",
    "inv_data['tempindex2'] = inv_data['plant_ID']\n",
    "family_ID = inv_data.groupby(['tempindex1', 'tempindex2']).agg({'pop': 'first', 'plant_ID': 'first'})\n",
    "family_ID = family_ID.merge(DNA_data)"
   ]
  },
  {
   "cell_type": "markdown",
   "id": "c9f1509e",
   "metadata": {},
   "source": [
    "#### rename subpop to sibship"
   ]
  },
  {
   "cell_type": "code",
   "execution_count": 10,
   "id": "e7d85b30",
   "metadata": {},
   "outputs": [],
   "source": [
    "family_ID = family_ID.rename(columns={\"subpop\": \"sibship\"})"
   ]
  },
  {
   "cell_type": "markdown",
   "id": "b2f6e41e",
   "metadata": {},
   "source": [
    "#### do this thing with the temporary index again"
   ]
  },
  {
   "cell_type": "code",
   "execution_count": 11,
   "id": "03824ba3",
   "metadata": {},
   "outputs": [],
   "source": [
    "family_ID['tempindex1'] = family_ID['pop']"
   ]
  },
  {
   "cell_type": "markdown",
   "id": "daef1a13",
   "metadata": {},
   "source": [
    "#### reduce the DNA data down to a single row per population so that can get merged with the common garden"
   ]
  },
  {
   "cell_type": "code",
   "execution_count": 13,
   "id": "2007299d",
   "metadata": {},
   "outputs": [],
   "source": [
    "family_ID = family_ID.groupby(['tempindex1']).agg({'pop': 'first', 'sire': 'first', 'dam': 'first', 'sibship': 'first','sire.pop': 'first', 'dam.pop': 'first',\n",
    "                                                   'Structure_region': 'first'})"
   ]
  },
  {
   "cell_type": "code",
   "execution_count": 14,
   "id": "f6574f9d",
   "metadata": {},
   "outputs": [
    {
     "name": "stdout",
     "output_type": "stream",
     "text": [
      "               pop  sire  dam  sibship sire.pop dam.pop Structure_region\n",
      "tempindex1                                                              \n",
      "23S            23S     1    2        1        3       3                3\n",
      "AOFT          AOFT     3    4        2        3       3                3\n",
      "BDA            BDA     5    6        3        2       2                2\n",
      "BER            BER     7    8        4        1       1                1\n",
      "BZE            BZE     9   10        5        2       2                2\n",
      "CCMI          CCMI    11   12        6        4       4                4\n",
      "CDR            CDR    13   14        7        1       1                1\n",
      "CEG            CEG    15   16        8        2       2                2\n",
      "CHELD1      CHELD1    17   18        9        3       3                3\n",
      "CHELD2      CHELD2    19   20       10        3       3                3\n",
      "CHELL        CHELL    21   22       11        3       3                3\n",
      "CQQ            CQQ    23   24       12        3       3                3\n",
      "CRE2          CRE2    25   26       13        1       1                1\n",
      "DCK            DCK    27   28       14        4       4                4\n",
      "DK5            DK5    29   30       15        2       2                2\n",
      "DK7            DK7    31   32       16        2       2                2\n",
      "EGR            EGR    33   34       17        2       2                2\n",
      "FMN            FMN    35   36       18        4       4                4\n",
      "GAP            GAP    37   38       19        1       1                1\n",
      "GODA          GODA    39   40       20        1       1                1\n",
      "HNKS          HNKS    41   42       21        3       3                3\n",
      "JHN            JHN    43   44       22        4       4                4\n",
      "JNS            JNS    45   46       23        4       4                4\n",
      "KBS            KBS    47   48       24        4       4                4\n",
      "KIS            KIS    49   50       25        2       2                2\n",
      "LAU            LAU    51   52       26        1       1                1\n",
      "MAI            MAI    53   54       27        1       1                1\n",
      "MLBS          MLBS    55   56       28        3       3                3\n",
      "MON            MON    57   58       29        1       1                1\n",
      "MSP            MSP    59   60       30        3       3                3\n",
      "NAS            NAS    61   62       31        3       3                3\n",
      "ORNOL        ORNOL    63   64       32        3       3                3\n",
      "OSE1          OSE1    65   66       33        1       1                1\n",
      "PDRV          PDRV    67   68       34        5       5                5\n",
      "PJA            PJA    69   70       35        2       2                2\n",
      "PLZ            PLZ    71   72       36        2       2                2\n",
      "PRG            PRG    73   74       37        2       2                2\n",
      "PRT            PRT    75   76       38        1       1                1\n",
      "RDGP          RDGP    77   78       39        3       3                3\n",
      "RNKE          RNKE    79   80       40        3       3                3\n",
      "RNY            RNY    81   82       41        4       4                4\n",
      "ROD            ROD    83   84       42        1       1                1\n",
      "ROS            ROS    85   86       43        1       1                1\n",
      "RRW            RRW    87   88       44        5       5                5\n",
      "RUZ            RUZ    89   90       45        1       1                1\n",
      "RVVW          RVVW    91   92       46        5       5                5\n",
      "RWI            RWI    91   92       46        5       5                5\n",
      "SAL            SAL    93   94       47        1       1                1\n",
      "SASA          SASA    95   96       48        5       5                5\n",
      "SASB          SASB    97   98       49        5       5                5\n",
      "SCR            SCR    99  100       50        3       3                3\n",
      "SG              SG   101  102       51        1       1                1\n",
      "SNY            SNY   103  104       52        ?       ?                ?\n",
      "SRVR2        SRVR2   105  106       53        1       1                1\n",
      "SVL1          SVL1   107  108       54        2       2                2\n",
      "UNILL        UNILL   109  110       55        1       1                1\n",
      "VES            VES   111  112       56        ?       ?                ?\n",
      "WEB            WEB   113  114       57        4       4                4\n",
      "WHS            WHS   115  116       58        4       4                4\n",
      "ZAG            ZAG   117  118       59        2       2                2\n"
     ]
    }
   ],
   "source": [
    "print(family_ID)"
   ]
  },
  {
   "cell_type": "markdown",
   "id": "0f9b9862",
   "metadata": {},
   "source": [
    "#### now merge the molecular data back (family_ID) into the larger dataset using pop as the key/index."
   ]
  },
  {
   "cell_type": "code",
   "execution_count": 15,
   "id": "6a34ee50",
   "metadata": {},
   "outputs": [
    {
     "name": "stdout",
     "output_type": "stream",
     "text": [
      "       year      census  pop     cont_orig     cont_dest site treatment block  \\\n",
      "0      2006  2006summer  23S  NorthAmerica        Europe   CH        CN  CH06   \n",
      "1      2006  2006summer  23S  NorthAmerica        Europe   CH        CN  CH06   \n",
      "2      2006  2006summer  23S  NorthAmerica        Europe   CH        CN  CH06   \n",
      "3      2006  2006summer  23S  NorthAmerica        Europe   CH        CN  CH06   \n",
      "4      2006  2006summer  23S  NorthAmerica        Europe   CH        CN  CH06   \n",
      "...     ...         ...  ...           ...           ...  ...       ...   ...   \n",
      "18692  2008  2008summer  ZAG        Europe  NorthAmerica   CA        CN  CA09   \n",
      "18693  2008  2008summer  ZAG        Europe  NorthAmerica   CA        CN  CA09   \n",
      "18694  2008  2008summer  ZAG        Europe  NorthAmerica   CA        CN  CA10   \n",
      "18695  2008  2008summer  ZAG        Europe  NorthAmerica   CA        FI  CA11   \n",
      "18696  2008  2008summer  ZAG        Europe  NorthAmerica   CA        CN  CA12   \n",
      "\n",
      "       plant_ID  sex  ... num_smutted_fl  leaf_herb  gen_ENMY  spec_ENMY  \\\n",
      "0          1753    F  ...            NaN        0.0       0.0        0.0   \n",
      "1          2619    M  ...            NaN        1.0       0.0        0.0   \n",
      "2           810    M  ...            NaN        1.0       0.0        0.0   \n",
      "3           414    F  ...            NaN        0.0       0.0        0.0   \n",
      "4          1677    F  ...            NaN        1.0       0.0        0.0   \n",
      "...         ...  ...  ...            ...        ...       ...        ...   \n",
      "18692      1043    M  ...            NaN        1.0       0.0        0.0   \n",
      "18693       777  NaN  ...            NaN        NaN       NaN        NaN   \n",
      "18694      1395    F  ...            NaN        1.0       0.0        0.0   \n",
      "18695      1448    F  ...            NaN        0.0       0.0        0.0   \n",
      "18696       725    M  ...            NaN        0.0       0.0        0.0   \n",
      "\n",
      "       sire  dam  sibship sire.pop  dam.pop  Structure_region  \n",
      "0         1    2        1        3        3                 3  \n",
      "1         1    2        1        3        3                 3  \n",
      "2         1    2        1        3        3                 3  \n",
      "3         1    2        1        3        3                 3  \n",
      "4         1    2        1        3        3                 3  \n",
      "...     ...  ...      ...      ...      ...               ...  \n",
      "18692   117  118       59        2        2                 2  \n",
      "18693   117  118       59        2        2                 2  \n",
      "18694   117  118       59        2        2                 2  \n",
      "18695   117  118       59        2        2                 2  \n",
      "18696   117  118       59        2        2                 2  \n",
      "\n",
      "[18697 rows x 34 columns]\n"
     ]
    }
   ],
   "source": [
    "inv_data = inv_data.merge(family_ID[['sire', 'dam', 'sibship', 'sire.pop', 'dam.pop', 'Structure_region']],\n",
    "                        on=['tempindex1', 'tempindex1'], how='right', indicator=False)\n",
    "inv_data = inv_data.drop(columns=['tempindex1', 'tempindex2'])\n",
    "print(inv_data)"
   ]
  },
  {
   "cell_type": "markdown",
   "id": "c6582957",
   "metadata": {},
   "source": [
    "#### There are some question marks in the molecular data, replace with missing values."
   ]
  },
  {
   "cell_type": "code",
   "execution_count": 16,
   "id": "ff00fd7b",
   "metadata": {},
   "outputs": [],
   "source": [
    "inv_data=inv_data.replace('?', '')"
   ]
  },
  {
   "cell_type": "markdown",
   "id": "20bf97df",
   "metadata": {},
   "source": [
    "#### uncomment the line below to get a copy of the original common garden data merged with the structure results."
   ]
  },
  {
   "cell_type": "code",
   "execution_count": 18,
   "id": "76c10e51",
   "metadata": {},
   "outputs": [],
   "source": [
    "inv_data.to_csv(r'raw garden data with deme assignments.csv', index=False)"
   ]
  },
  {
   "cell_type": "markdown",
   "id": "77465138",
   "metadata": {},
   "source": [
    "#### *From here, we are going to take a major direction. We have data from ~7 census dates. Rather than try to analyze those using something like repeated measures, or aster, we will create summary variables. For example, lifetime fitness for females might be the sum of fruit production across all census dates.In addition, we will transform the data to make it appropriate for parametric statistics. Later, we can standardize the data for selection analyses.*"
   ]
  }
 ],
 "metadata": {
  "kernelspec": {
   "display_name": "Python 3 (ipykernel)",
   "language": "python",
   "name": "python3"
  },
  "language_info": {
   "codemirror_mode": {
    "name": "ipython",
    "version": 3
   },
   "file_extension": ".py",
   "mimetype": "text/x-python",
   "name": "python",
   "nbconvert_exporter": "python",
   "pygments_lexer": "ipython3",
   "version": "3.7.7"
  }
 },
 "nbformat": 4,
 "nbformat_minor": 5
}
